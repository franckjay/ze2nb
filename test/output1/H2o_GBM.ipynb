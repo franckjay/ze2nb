{
 "cells": [
  {
   "cell_type": "markdown",
   "metadata": {},
   "source": [
    "H2O and GBM modules\n"
   ]
  },
  {
   "cell_type": "code",
   "execution_count": 1,
   "metadata": {
    "autoscroll": "auto"
   },
   "outputs": [],
   "source": [
    "import h2o\n",
    "h2o.init()"
   ]
  },
  {
   "cell_type": "code",
   "execution_count": 2,
   "metadata": {
    "autoscroll": "auto"
   },
   "outputs": [],
   "source": [
    "from h2o.estimators.gbm import H2OGradientBoostingEstimator"
   ]
  },
  {
   "cell_type": "code",
   "execution_count": 3,
   "metadata": {
    "autoscroll": "auto"
   },
   "outputs": [],
   "source": [
    "#airlines = h2o.import_file(\"https://s3.amazonaws.com/h2o-public-test-data/smalldata/airlines/allyears2k_headers.zip\")\n",
    "airlines = h2o.import_file(\"/Users/dt216661/Documents/MyH2o/H2O/data/allyears2k_headers.zip\")"
   ]
  },
  {
   "cell_type": "code",
   "execution_count": 4,
   "metadata": {
    "autoscroll": "auto"
   },
   "outputs": [],
   "source": [
    "airlines.head(4)"
   ]
  },
  {
   "cell_type": "code",
   "execution_count": 5,
   "metadata": {
    "autoscroll": "auto"
   },
   "outputs": [],
   "source": [
    "airlines['Year'] = airlines['Year'].asfactor()\n",
    "airlines['Month'] = airlines['Month'].asfactor()\n",
    "airlines['DayOfWeek'] = airlines['DayOfWeek'].asfactor()\n",
    "airlines['Cancelled'] = airlines['Cancelled'].asfactor()\n",
    "airlines['FlightNum'] = airlines['FlightNum'].asfactor()\n"
   ]
  },
  {
   "cell_type": "code",
   "execution_count": 6,
   "metadata": {
    "autoscroll": "auto"
   },
   "outputs": [],
   "source": [
    "predictors = ['Origin','Dest','Year','UniqueCarrier','DayOfWeek','Month','Distance','FlightNum'] \n",
    "response = 'IsDepDelayed'"
   ]
  },
  {
   "cell_type": "code",
   "execution_count": 7,
   "metadata": {
    "autoscroll": "auto"
   },
   "outputs": [],
   "source": [
    "train, valid = airlines.split_frame(ratios = [.8], seed = 1234)"
   ]
  },
  {
   "cell_type": "code",
   "execution_count": 8,
   "metadata": {
    "autoscroll": "auto"
   },
   "outputs": [],
   "source": [
    "bin_num = [8, 16, 32, 64, 128, 256, 512, 1024, 2048, 4096]\n",
    "label = \"8\", \"16\", \"32\", \"64\", \"128\", \"256\", \"512\", \"1024\", \"2016\", \"4096\" "
   ]
  },
  {
   "cell_type": "code",
   "execution_count": 9,
   "metadata": {
    "autoscroll": "auto"
   },
   "outputs": [],
   "source": [
    "for key, num in enumerate(bin_num):\n",
    "    print('bin'+ str(key) + ' with number: '+ str(num))\n",
    "    airlines_gbm = H2OGradientBoostingEstimator(nbins_cats = num, seed =1234)\n",
    "    airlines_gbm.train(x = predictors, y = response, training_frame = train, validation_frame = valid)"
   ]
  },
  {
   "cell_type": "code",
   "execution_count": 10,
   "metadata": {
    "autoscroll": "auto"
   },
   "outputs": [],
   "source": [
    "print(label[key], \"training socre\", airlines_gbm.auc(train = True))\n",
    "print(label[key], \"validation socre\", airlines_gbm.auc(valid = True))"
   ]
  }
 ],
 "metadata": {
  "kernelspec": {
   "display_name": "Spark 2.0.0",
   "language": "python",
   "name": "spark2"
  },
  "language_info": {
   "codemirror_mode": "text/python",
   "file_extension": ".py",
   "mimetype": "text/python",
   "name": "scala",
   "pygments_lexer": "python",
   "version": "3.6"
  }
 },
 "nbformat": 4,
 "nbformat_minor": 2
}
